{
 "cells": [
  {
   "cell_type": "markdown",
   "id": "651cdd82",
   "metadata": {},
   "source": [
    "# Quantum Random Number Generator - Simulation\n"
   ]
  },
  {
   "cell_type": "markdown",
   "id": "61ff6021",
   "metadata": {},
   "source": [
    "## DV QRNG\n",
    "\n",
    "### Core Physics \n",
    "A **qubit** is a two level quantum system with states $|0\\rangle$ and $|1\\rangle$.\n",
    "\n",
    "If we prepare the qubit in the state $|0\\rangle$ and apply a **Hadamard gate** $H$, the state becomes: $|+\\rangle = \\frac{|0\\rangle + |1\\rangle}{\\sqrt{2}}$\n",
    "\n",
    "If we now measure this state in the **computational basis** $\\{ |0\\rangle, |1\\rangle \\}$, the **Born rule** says:\n",
    "$P(0) = |\\langle 0 | + \\rangle|^2 = \\tfrac{1}{2}$ and $P(1) = |\\langle 1 | + \\rangle|^2 = \\tfrac{1}{2}$\n",
    "\n",
    "*Intrinsic* randomness of quantum mechanics vs deterministic classical randomness (chaos). \n",
    "\n",
    "Even if we had complete information about the system, the measurement outcome is **fundamentally unpredictable**.  \n",
    "Each measurement therefore gives one *truly random bit*."
   ]
  },
  {
   "cell_type": "markdown",
   "id": "d052dbba",
   "metadata": {},
   "source": [
    "#### **Qiskit**\n",
    "- IBM’s open-source Python framework for quantum computing\n",
    "- allows the simulation of quantum circuits on a classical computer\n",
    "- run the same circuits on **real IBM quantum processors** in the cloud\n",
    "\n",
    "This means that:\n",
    "- on a simulator, we get *simulated quantum statistics* (generated using a classical pseudo-random number generators)  \n",
    "- on a real IBM quantum device, we can obtain *genuine quantum random numbers*\n",
    "\n",
    "$\\rightarrow$ i created an IBM Quantum account and i am trying to get cloud access to real quantum chips (working on it...)\n"
   ]
  },
  {
   "cell_type": "code",
   "execution_count": 92,
   "id": "9dbabeb9",
   "metadata": {},
   "outputs": [],
   "source": [
    "import numpy as np\n",
    "from qiskit import QuantumCircuit, transpile\n",
    "from qiskit_aer import AerSimulator"
   ]
  },
  {
   "cell_type": "code",
   "execution_count": 93,
   "id": "5b8940d6",
   "metadata": {},
   "outputs": [
    {
     "name": "stdout",
     "output_type": "stream",
     "text": [
      "Bitstring:  [0 0 0 ... 1 1 1]\n",
      "First 100 bits of Bitstring: \n",
      " [0 0 0 1 0 1 1 1 0 1 1 0 0 0 1 0 0 1 1 1 0 1 1 0 1 1 1 0 1 1 1 1 0 1 1 1 1\n",
      " 1 1 0 1 0 1 0 1 1 1 1 1 1 1 1 0 1 0 1 1 0 0 1 1 1 1 1 0 1 1 0 0 0 1 0 0 1\n",
      " 1 0 0 1 1 1 1 1 1 0 1 1 0 0 0 1 0 0 0 1 0 1 1 1 1 0]\n",
      "\n",
      "Random bits generated:  {'1': 500058, '0': 499942}\n"
     ]
    }
   ],
   "source": [
    "qc = QuantumCircuit(1, 1)  \n",
    "qc.h(0)  \n",
    "qc.measure(0, 0)\n",
    "\n",
    "backend = AerSimulator() \n",
    "transpiled_qc = transpile(qc, backend)\n",
    "job = backend.run(transpiled_qc, shots=1000000, memory=True)\n",
    "result = job.result()\n",
    "bitstring = np.array(result.get_memory(), dtype=np.uint8)\n",
    "print('Bitstring: ', bitstring)\n",
    "print('First 100 bits of Bitstring: \\n', bitstring[:100])\n",
    "\n",
    "counts = result.get_counts()\n",
    "print()\n",
    "print('Random bits generated: ', counts)\n"
   ]
  },
  {
   "cell_type": "markdown",
   "id": "fc23cb32",
   "metadata": {},
   "source": [
    "#### **$H_{min}$ *Min-Entropy***  \n",
    "\n",
    "Min-entropy ($H_{min}$) is a measure of the unpredictability of a random variable. It is defined as: $H_{min}(X) = -log_2(max(P(X=x)))$\n",
    "\n",
    "- represents the worst case predictability where:\n",
    "    - 0 $\\rightarrow$ fully predictable\n",
    "    - 1 $\\rightarrow$ perfectly random (maximally unpredictable)\n"
   ]
  },
  {
   "cell_type": "code",
   "execution_count": 94,
   "id": "a8cfade3",
   "metadata": {},
   "outputs": [
    {
     "name": "stdout",
     "output_type": "stream",
     "text": [
      "Min Entropy:  0.9998326570809586\n"
     ]
    }
   ],
   "source": [
    "def min_entropy(counts, shots):\n",
    "    probs = np.array([counts.get('0', 0)/shots, counts.get('1', 0)/shots])\n",
    "    return -np.log2(np.max(probs))\n",
    "\n",
    "shots = 1000000\n",
    "h_min = min_entropy(counts, shots)\n",
    "print('Min Entropy: ', h_min)"
   ]
  },
  {
   "cell_type": "markdown",
   "id": "ea828167",
   "metadata": {},
   "source": [
    "### **Randomness Extraction Models**\n",
    "\n",
    "Randomness Extraction Models are methods / algorithms that take biased sources of randomness and produce uniform, unbiased random bits\n",
    "\n",
    "- Von Neumann Extractor (pair-wise)\n",
    "- "
   ]
  },
  {
   "cell_type": "markdown",
   "id": "e8a2eac0",
   "metadata": {},
   "source": [
    "#### Von Neumann Extractor\n",
    "\n",
    "The **von Neumann extractor** is a simple method to *remove bias* from a random bit sequence. It works by reading the bits in **pairs** of two:\n",
    "-  `00` or `11` $\\rightarrow$ discard\n",
    "-  `01` $\\rightarrow$ output `0`\n",
    "-  `10` $\\rightarrow$ output `1`\n",
    "\n",
    "$\\Rightarrow$ more **uniformly random sequence**, even if the original source has a slight bias.\n"
   ]
  },
  {
   "cell_type": "code",
   "execution_count": 95,
   "id": "8b609799",
   "metadata": {},
   "outputs": [
    {
     "name": "stdout",
     "output_type": "stream",
     "text": [
      "Initial bitstring length:  1000000\n",
      "Extracted (Von Neumann) bitstring length:  249706\n",
      "Percentage of bits that survived: 24.97%\n",
      "\n",
      "Initial counts:  {'1': 500058, '0': 499942}\n",
      "Von Neumann counts:  {0: 124681, 1: 125025}\n",
      "\n",
      "Initial Min Entropy:  0.9998326570809586\n",
      "Min Entropy after Von Neumann extraction:  0.9980138820846688\n"
     ]
    }
   ],
   "source": [
    "def von_neumann_extraction(bits):\n",
    "    extracted_bits = []\n",
    "    for i in range(0, len(bits)-1, 2):\n",
    "        pair = bits[i], bits[i+1]\n",
    "        if pair == (0, 1):\n",
    "            extracted_bits.append(0)\n",
    "        elif pair == (1, 0):\n",
    "            extracted_bits.append(1)\n",
    "    return np.array(extracted_bits, dtype=np.uint8)\n",
    "\n",
    "vn_bits = von_neumann_extraction(bitstring)\n",
    "print('Initial bitstring length: ', len(bitstring))\n",
    "print('Extracted (Von Neumann) bitstring length: ', len(vn_bits))\n",
    "percent_survived = (len(vn_bits) / len(bitstring)) * 100\n",
    "print(f'Percentage of bits that survived: {percent_survived:.2f}%')\n",
    "\n",
    "unique, counts_vn = np.unique(vn_bits, return_counts=True)\n",
    "counts_dict = {int(k): int(v) for k, v in zip(unique, counts_vn)}\n",
    "print()\n",
    "print('Initial counts: ', counts)\n",
    "print('Von Neumann counts: ', counts_dict)\n",
    "\n",
    "shots_vn = len(vn_bits)\n",
    "if shots_vn > 0:\n",
    "    probs_vn = counts_vn / shots_vn\n",
    "    h_min_vn = -np.log2(np.max(probs_vn))\n",
    "    print()\n",
    "    print('Initial Min Entropy: ', h_min)\n",
    "    print('Min Entropy after Von Neumann extraction: ', h_min_vn)\n",
    "else:\n",
    "    print('No bits survived the Von Neumann extraction')\n",
    "\n"
   ]
  },
  {
   "cell_type": "markdown",
   "id": "49a6be33",
   "metadata": {},
   "source": [
    "#### Von Neumann extraction:\n",
    "- pros: nice & simple method \n",
    "\n",
    "- cons: discards a lotttt of bits (~75%) $\\Rightarrow$ wastes data\n",
    "     - computational cost (extra memory & CPU cycles)\n",
    "    - time inefficiency "
   ]
  },
  {
   "cell_type": "markdown",
   "id": "d4a19613",
   "metadata": {},
   "source": [
    "### Hash-based Extraction \n",
    "\n",
    "Hash functions = math function / algorithm that maps input data of any size to a fixed-size string output\n",
    "- cryptographic hash functions (SHA-256, SHA-3, Blake2, MD5) $\\rightarrow$ less secure now\n",
    "\n",
    "\n",
    "*Hash-based Randomness Extraction model* uses hash functions as extractors bc they:\n",
    "- get a biased random input & they output a uniform(-ish?) bitstring \n",
    "- retain nearly all entropy from the input without discarding most bits (unlike Von Neumann)"
   ]
  }
 ],
 "metadata": {
  "kernelspec": {
   "display_name": "cutie",
   "language": "python",
   "name": "python3"
  },
  "language_info": {
   "codemirror_mode": {
    "name": "ipython",
    "version": 3
   },
   "file_extension": ".py",
   "mimetype": "text/x-python",
   "name": "python",
   "nbconvert_exporter": "python",
   "pygments_lexer": "ipython3",
   "version": "3.13.5"
  }
 },
 "nbformat": 4,
 "nbformat_minor": 5
}
