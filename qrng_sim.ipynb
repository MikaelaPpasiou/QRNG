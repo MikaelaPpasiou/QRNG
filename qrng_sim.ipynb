{
 "cells": [
  {
   "cell_type": "markdown",
   "id": "651cdd82",
   "metadata": {},
   "source": [
    "# Quantum Random Number Generator - Simulation\n"
   ]
  },
  {
   "cell_type": "markdown",
   "id": "61ff6021",
   "metadata": {},
   "source": [
    "## DV QRNG\n",
    "\n",
    "### Core Physics \n",
    "A **qubit** is a two level quantum system with states $|0\\rangle$ and $|1\\rangle$.\n",
    "\n",
    "Canonical Textbook example:\n",
    "\n",
    "If we prepare the qubit in the state $|0\\rangle$ and apply a **Hadamard gate** $H$, the state becomes: $|+\\rangle = \\frac{|0\\rangle + |1\\rangle}{\\sqrt{2}}$\n",
    "\n",
    "If we now measure this state in the **computational basis** $\\{ |0\\rangle, |1\\rangle \\}$, the **Born rule** says:\n",
    "$P(0) = |\\langle 0 | + \\rangle|^2 = \\tfrac{1}{2}$ and $P(1) = |\\langle 1 | + \\rangle|^2 = \\tfrac{1}{2}$\n",
    "\n",
    "*Intrinsic* randomness of quantum mechanics vs deterministic classical randomness (chaos). \n",
    "\n",
    "Even if we had complete information about the system, the measurement outcome is **fundamentally unpredictable**.  \n",
    "Each measurement therefore gives one *truly random bit*."
   ]
  },
  {
   "cell_type": "markdown",
   "id": "d052dbba",
   "metadata": {},
   "source": [
    "#### **Qiskit**\n",
    "- IBM’s open-source Python framework for quantum computing\n",
    "- allows the simulation of quantum circuits on a classical computer\n",
    "- run the same circuits on **real IBM quantum processors** in the cloud\n",
    "\n",
    "This means that:\n",
    "- on a simulator, we get *simulated quantum statistics* (generated using a classical pseudo-random number generators)  \n",
    "- on a real IBM quantum device, we can obtain *genuine quantum random numbers*\n",
    "\n",
    "$\\rightarrow$ i created an IBM Quantum account and i am trying to get cloud access to real quantum chips (working on it...)\n",
    "\n",
    "<div class=\"alert alert-block alert-info\">\n",
    "<b>coming in the near future 👩🏻‍💻\n",
    "</div>\n"
   ]
  },
  {
   "cell_type": "code",
   "execution_count": 22,
   "id": "9dbabeb9",
   "metadata": {},
   "outputs": [],
   "source": [
    "import numpy as np\n",
    "import matplotlib.pyplot as plt\n",
    "from qiskit import QuantumCircuit, transpile\n",
    "from qiskit_aer import AerSimulator\n",
    "import scienceplots\n",
    "\n",
    "plt.style.use('science')"
   ]
  },
  {
   "cell_type": "code",
   "execution_count": 23,
   "id": "5b8940d6",
   "metadata": {},
   "outputs": [
    {
     "name": "stdout",
     "output_type": "stream",
     "text": [
      "Bitstring:  [1 1 1 ... 0 1 1]\n",
      "First 100 bits of Bitstring: \n",
      " [1 1 1 0 0 1 1 1 0 0 1 0 0 0 0 1 1 0 0 1 0 0 0 1 0 1 1 1 1 0 0 0 0 0 1 0 1\n",
      " 1 1 1 0 1 0 0 1 0 0 1 0 1 0 1 1 1 1 0 1 0 0 0 1 1 0 1 0 0 0 0 1 0 0 0 1 0\n",
      " 0 0 0 1 1 1 0 0 0 0 1 0 1 0 1 0 0 1 0 0 0 1 1 0 0 1]\n",
      "\n",
      "Random bits generated:  {'0': 500223, '1': 499777}\n"
     ]
    }
   ],
   "source": [
    "qc = QuantumCircuit(1, 1)  \n",
    "qc.h(0)  \n",
    "qc.measure(0, 0)\n",
    "# print(qc.draw())\n",
    "\n",
    "backend = AerSimulator() \n",
    "transpiled_qc = transpile(qc, backend)\n",
    "job = backend.run(transpiled_qc, shots=1000000, memory=True)\n",
    "result = job.result()\n",
    "bitstring = np.array(result.get_memory(), dtype=np.uint8)\n",
    "print('Bitstring: ', bitstring)\n",
    "print('First 100 bits of Bitstring: \\n', bitstring[:100])\n",
    "\n",
    "counts = result.get_counts()\n",
    "print()\n",
    "print('Random bits generated: ', counts)\n"
   ]
  },
  {
   "cell_type": "markdown",
   "id": "fc23cb32",
   "metadata": {},
   "source": [
    "#### **$H_{min}$ *Min-Entropy***  \n",
    "\n",
    "Min-entropy ($H_{min}$) is a measure of the unpredictability of a random variable. It is defined as: $H_{min}(X) = -log_2(max(P(X=x)))$\n",
    "\n",
    "- $H_{min}(X) = 0$ $\\rightarrow$ fully predictable\n",
    "- $H_{min}(X) = 1$ $\\rightarrow$ perfectly random (maximally unpredictable) ideal qrng with $p_0 \\approx p_1 \\approx 0.5$\n"
   ]
  },
  {
   "cell_type": "code",
   "execution_count": 24,
   "id": "a8cfade3",
   "metadata": {},
   "outputs": [
    {
     "name": "stdout",
     "output_type": "stream",
     "text": [
      "Min Entropy:  0.9993567014566777\n"
     ]
    },
    {
     "data": {
      "image/png": "[encoded data removed]",
      "text/plain": [
       "<Figure size 700x500 with 1 Axes>"
      ]
     },
     "metadata": {},
     "output_type": "display_data"
    }
   ],
   "source": [
    "def min_entropy(bitstring):\n",
    "    shots = len(bitstring)\n",
    "    counts = np.bincount(bitstring, minlength=2)\n",
    "    probs = counts / shots\n",
    "    return -np.log2(np.max(probs))\n",
    "\n",
    "h_min = min_entropy(bitstring)\n",
    "print('Min Entropy: ', h_min)\n",
    "\n",
    "# graph for how the estimated min-entropy converges as more bits are collected => whether bias stabilizes or not\n",
    "window = 500  # checking min_entropy every 500 samples\n",
    "H_vals = []\n",
    "for i in range(window, len(bitstring), window):\n",
    "    H_vals.append(min_entropy(bitstring[:i]))\n",
    "\n",
    "plt.figure(figsize=(7,5))\n",
    "plt.plot(range(window, len(bitstring), window), H_vals, marker='.', color='darkblue')\n",
    "plt.axhline(1, color='purple', linestyle='--', label='Ideal QRNG')\n",
    "plt.xlabel('Number of samples')\n",
    "plt.ylabel('Estimated Min-Entropy')\n",
    "plt.title('Convergence of Min-Entropy (DV QRNG)')\n",
    "plt.legend()\n",
    "plt.show()"
   ]
  },
  {
   "cell_type": "markdown",
   "id": "ea828167",
   "metadata": {},
   "source": [
    "### **Randomness Extraction Models**\n",
    "\n",
    "Randomness Extraction Models are methods / algorithms that take biased sources of randomness and produce uniform, unbiased random bits\n",
    "\n",
    "- Von Neumann Extractor (pair-wise)\n",
    "- Hash-based Extractor"
   ]
  },
  {
   "cell_type": "markdown",
   "id": "e8a2eac0",
   "metadata": {},
   "source": [
    "#### Von Neumann Extractor\n",
    "\n",
    "The **von Neumann extractor** is a simple method to *remove bias* from a random bit sequence. It works by reading the bits in **pairs** of two:\n",
    "-  `00` or `11` $\\rightarrow$ discard\n",
    "-  `01` $\\rightarrow$ output `0`\n",
    "-  `10` $\\rightarrow$ output `1`\n",
    "\n",
    "$\\Rightarrow$ more **uniformly random sequence**, even if the original source has a slight bias.\n"
   ]
  },
  {
   "cell_type": "code",
   "execution_count": 25,
   "id": "8b609799",
   "metadata": {},
   "outputs": [
    {
     "name": "stdout",
     "output_type": "stream",
     "text": [
      "Initial bitstring length:  1000000\n",
      "Extracted (Von Neumann) bitstring length:  250461\n",
      "Percentage of bits that survived: 25.05%\n",
      "\n",
      "Initial counts:  {'0': 500223, '1': 499777}\n",
      "Von Neumann counts:  {0: 125089, 1: 125372}\n",
      "\n",
      "Initial Min Entropy:  0.9993567014566777\n",
      "Min Entropy after Von Neumann extraction:  0.9983707954231871\n"
     ]
    }
   ],
   "source": [
    "def von_neumann_extraction(bits):\n",
    "    extracted_bits = []\n",
    "    for i in range(0, len(bits)-1, 2):\n",
    "        pair = bits[i], bits[i+1]\n",
    "        if pair == (0, 1):\n",
    "            extracted_bits.append(0)\n",
    "        elif pair == (1, 0):\n",
    "            extracted_bits.append(1)\n",
    "    return np.array(extracted_bits, dtype=np.uint8)\n",
    "\n",
    "vn_bits = von_neumann_extraction(bitstring)\n",
    "print('Initial bitstring length: ', len(bitstring))\n",
    "print('Extracted (Von Neumann) bitstring length: ', len(vn_bits))\n",
    "percent_survived = (len(vn_bits) / len(bitstring)) * 100\n",
    "print(f'Percentage of bits that survived: {percent_survived:.2f}%')\n",
    "\n",
    "unique, counts_vn = np.unique(vn_bits, return_counts=True)\n",
    "counts_dict = {int(k): int(v) for k, v in zip(unique, counts_vn)}\n",
    "print()\n",
    "print('Initial counts: ', counts)\n",
    "print('Von Neumann counts: ', counts_dict)\n",
    "\n",
    "shots_vn = len(vn_bits)\n",
    "if shots_vn > 0:\n",
    "    probs_vn = counts_vn / shots_vn\n",
    "    h_min_vn = -np.log2(np.max(probs_vn))\n",
    "    print()\n",
    "    print('Initial Min Entropy: ', h_min)\n",
    "    print('Min Entropy after Von Neumann extraction: ', h_min_vn)\n",
    "else:\n",
    "    print('No bits survived the Von Neumann extraction')\n"
   ]
  },
  {
   "cell_type": "markdown",
   "id": "49a6be33",
   "metadata": {},
   "source": [
    "#### Von Neumann extraction:\n",
    "- pros: nice & simple method \n",
    "\n",
    "- cons: discards a lotttt of bits (~75%) $\\Rightarrow$ wastes data\n",
    "\n",
    "     - computational cost (extra memory & CPU cycles)\n",
    "\n",
    "    - time inefficiency "
   ]
  },
  {
   "cell_type": "markdown",
   "id": "d4a19613",
   "metadata": {},
   "source": [
    "### Hash-based Extraction \n",
    "\n",
    "Hash functions = math function / algorithm that maps input data of any size to a fixed-size string output\n",
    "- cryptographic hash functions (SHA-256, SHA-3, Blake2, MD5) $\\rightarrow$ less secure now\n",
    "\n",
    "\n",
    "*Hash-based Randomness Extraction model* uses hash functions as extractors bc they:\n",
    "\n",
    "- get a biased random input & they output a uniform(-ish?) bitstring \n",
    "\n",
    "- retain nearly all entropy from the input without discarding most bits (unlike Von Neumann)\n"
   ]
  },
  {
   "cell_type": "code",
   "execution_count": 28,
   "id": "8d0e8d23",
   "metadata": {},
   "outputs": [
    {
     "name": "stdout",
     "output_type": "stream",
     "text": [
      "Length of hash-extracted bits:  499968\n",
      "First 100 hash-extracted bits: \n",
      " [0 0 0 0 0 1 1 1 0 1 1 1 1 1 1 1 0 0 1 0 1 0 0 1 0 1 1 1 0 0 0 0 1 0 0 1 0\n",
      " 1 1 0 1 0 0 1 1 1 1 1 0 1 1 1 0 1 1 0 1 1 1 0 1 1 0 0 1 0 1 1 0 1 0 0 0 1\n",
      " 1 0 1 1 1 0 1 0 1 1 0 1 0 1 1 0 0 0 0 0 1 0 0 0 0 0]\n",
      "\n",
      "Initial Min Entropy:  0.9993567014566777\n",
      "Min Entropy after Hash extraction:  0.9976300052753948\n"
     ]
    }
   ],
   "source": [
    "import hashlib\n",
    "\n",
    "def hash_extraction(bits, block_size=512, hash_func='sha256'):\n",
    "    \"\"\"\n",
    "    Hash-based randomness extractor => using SHA-256\n",
    "    \n",
    "    bits: numpy array of 0/1 values\n",
    "    block_size: number of input bits per block\n",
    "    hash_func: cryptographic hash function (sha256, sha512, etc.)\n",
    "    \n",
    "    Returns: extracted bitstring as numpy array\n",
    "    \"\"\"\n",
    "    extracted_bits = []\n",
    "    hash_func_constructor = getattr(hashlib, hash_func)\n",
    "    \n",
    "    for i in range(0, len(bits), block_size):\n",
    "        block = bits[i:i+block_size]\n",
    "        if len(block) < block_size:\n",
    "            break  # drop incomplete block\n",
    "        byte_val = int(\"\".join(map(str, block.tolist())), 2).to_bytes(block_size // 8, byteorder=\"big\")\n",
    "        digest = hash_func_constructor(byte_val).digest()\n",
    "    \n",
    "        digest_bits = np.unpackbits(np.frombuffer(digest, dtype=np.uint8))\n",
    "        extracted_bits.extend(digest_bits)\n",
    "    \n",
    "    return np.array(extracted_bits, dtype=np.uint8)\n",
    "\n",
    "hash_bits = hash_extraction(bitstring, block_size=512, hash_func='sha256')\n",
    "print('Length of hash-extracted bits: ', len(hash_bits))\n",
    "print('First 100 hash-extracted bits: \\n', hash_bits[:100])\n",
    "\n",
    "\n",
    "if len(hash_bits) > 0:\n",
    "    h_min_hash = min_entropy(hash_bits)\n",
    "    print()\n",
    "    print('Initial Min Entropy: ', h_min)\n",
    "    print('Min Entropy after Hash extraction: ', h_min_hash)\n",
    "else:\n",
    "    print('No bits were produced by the hash extractor.')\n",
    "\n"
   ]
  },
  {
   "cell_type": "markdown",
   "id": "109dbb9e",
   "metadata": {},
   "source": [
    "so far ideal simulator, thus $\\Rightarrow$ simulating realistic quantum noise\n",
    "\n",
    "### **Adding Noise** yay\n",
    "\n",
    "*Qiskit's Noise Models* $\\Rightarrow$ pre-defined noise models from *real IBM quantum devices* (+ custom) can simulate:\n",
    "\n",
    "- gate errors (hadamard)\n",
    "\n",
    "- readout / measurement errors \n",
    "\n",
    "- decoherence errors (T1/T2 relaxation) aka qubit loses its quantum information over time due to interactions with the environment\n",
    "    - T1 relaxation (energy relaxation) $\\rightarrow$ qubit loses energy to its environment (from $|0\\rangle$ to $|1\\rangle$)\n",
    "\n",
    "        $\\Rightarrow$ flips to $|0\\rangle$ over time, thus: prob of remaining in $|1\\rangle$ decreases as: $e^{-t/T_1}$\n",
    "    \n",
    "    - T2 relaxation (dephasing) (no energy change) $\\rightarrow$ loss of phase information in a superposition\n",
    "     \n",
    "        $\\Rightarrow$ qubit’s superposition collapses faster than intended, thus coherence decays as: $e^{-t/T_2}$\n",
    "\n",
    "- thermal errors $\\rightarrow$ could be added in every part of the circuit "
   ]
  },
  {
   "cell_type": "code",
   "execution_count": 27,
   "id": "46ad2c53",
   "metadata": {},
   "outputs": [
    {
     "name": "stdout",
     "output_type": "stream",
     "text": [
      "Noisy bitstring sample: \n",
      " [0 1 0 1 1 0 1 0 1 1 1 1 1 0 0 1 1 0 0 1 1 0 0 1 0 1 0 1 0 1 0 0 0 0 0 1 1\n",
      " 0 0 1 1 0 0 1 1 0 1 1 1 0 0 1 1 0 0 0 1 0 0 0 1 1 0 0 0 0 1 0 0 0 1 1 1 0\n",
      " 1 0 1 1 1 0 0 0 1 1 1 1 1 0 1 0 0 1 1 1 0 1 0 0 0 1]\n",
      "\n",
      "Min Entropy (ideal system):  0.9993567014566777\n",
      "Noisy Min Entropy:  0.9013648491469114\n"
     ]
    }
   ],
   "source": [
    "from qiskit_aer.noise import NoiseModel, depolarizing_error, ReadoutError\n",
    "\n",
    "noise_model = NoiseModel()\n",
    "\n",
    "gate_error = depolarizing_error(0.01, 1)  # applying a 1-qubit gate (Hadamard) => 1% chance that the qubit gets randomized\n",
    "noise_model.add_all_qubit_quantum_error(gate_error, ['h'])\n",
    "\n",
    "readout_error = ReadoutError([[0.90, 0.10], [0.03, 0.97]])  # confusion matrix => 90% for |0⟩ 10% for |1⟩, and 97% for |1⟩ 3% for |0⟩\n",
    "noise_model.add_all_qubit_readout_error(readout_error)  # favouring the |0⟩ state\n",
    "\n",
    "'''\n",
    "# readout error just for dark counts, confusion matrix:\n",
    "ReadoutError([[0.99, 0.01],  # true 0 (99%) => sometimes mistaken as 1 (dark count)\n",
    "              [0.00, 1.00]]) # true 1 (100%) always read correctly\n",
    "'''\n",
    "\n",
    "backend_noisy = AerSimulator(noise_model=noise_model)\n",
    "transpiled_qc_noisy = transpile(qc, backend_noisy)\n",
    "job_noisy = backend_noisy.run(transpiled_qc_noisy, shots=100000, memory=True)\n",
    "result_noisy = job_noisy.result()\n",
    "bitstring_noisy = np.array(result_noisy.get_memory(), dtype=np.uint8)\n",
    "\n",
    "print('Noisy bitstring sample: \\n', bitstring_noisy[:100])\n",
    "\n",
    "h_min_noisy = min_entropy(bitstring_noisy)\n",
    "print()\n",
    "print('Min Entropy (ideal system): ', min_entropy(bitstring))\n",
    "print('Noisy Min Entropy: ', h_min_noisy)"
   ]
  },
  {
   "cell_type": "markdown",
   "id": "240e628d",
   "metadata": {},
   "source": [
    "## CV QRNG\n",
    "\n",
    "### Core Physics \n",
    "\n",
    "#### (1) Principle of CV QRNGs\n",
    "\n",
    "CV QRNGs use **intrinsic quantum fluctuations** of a physical observable, typically the **quadratures of the electromagnetic field** in an optical mode. Unlike DV QRNGs (single-photon detection), CV QRNGs measure a **continuous distribution**.\n",
    "\n",
    "- Key idea: **Quantum vacuum noise** or **shot noise** provides a fundamentally random signal.  \n",
    "- Observable: quadrature $ \\hat{X} $ of a light field.\n",
    "\n",
    "$\\hat{X} = \\frac{1}{2} (\\hat{a} + \\hat{a}^\\dagger)$ where $\\hat{a}$ and $\\hat{a}^\\dagger$ are the annihilation and creation operators.\n",
    "\n",
    "$\\rightarrow$ in quantum optics electromagnetic field can be described in terms of two 'quadratures' ($\\hat{X}$ and $\\hat{P}$, aka position and momentum for harmonic oscillator)\n",
    "\n",
    "$\\rightarrow$ measuring a quadrature with a homodyne detector on the vacuum gives a *continuous random variable* distributed according to the quantum state\n",
    "\n",
    "$\\rightarrow$ for the vacuum state (ground state of the electromagnetic field mode), the outcome is Gaussian noise wavefunction centered at zero with variance set by the Heisenberg uncertainty principle\n",
    "\n",
    "**$\\Rightarrow$ randomness comes from *vacuum *fluctuations* of the electromagnetic field** \n",
    "even with nothing in the input port, when measuring quadratures quantum uncertainty ensures random outcomes!\n",
    "\n",
    "thus, fundamental quantum origin of randomness (not biased technical noise)\n",
    "\n",
    "\n",
    "#### (2) Quantum Noise Source\n",
    "\n",
    "$|0\\rangle$ (for a single optical mode) and $|0...0\\rangle^{\\otimes n}$ (for n optical modes) \n",
    "$\\rightarrow$ Each mode gives independent Gaussian noise, so multi-mode just gives more independent samples\n",
    "\n",
    "\n",
    "The **vacuum state** $|0\\rangle$ exhibits zero-point fluctuations: \n",
    "\n",
    "$\\langle \\hat{X} \\rangle = 0, \\quad \\Delta X = \\sqrt{\\langle \\hat{X}^2 \\rangle - \\langle \\hat{X} \\rangle^2} = \\frac{1}{2}$\n",
    "\n",
    "- This variance $ \\Delta X^2 $ represents **irreducible quantum uncertainty**.  \n",
    "- Measuring the quadrature produces outcomes distributed according to a **Gaussian probability density function (PDF)**.\n",
    "\n",
    "$P(X) = \\frac{1}{\\sqrt{\\pi}} e^{-X^2}$\n",
    "\n",
    "#### (3) Measurement and Digitization\n",
    "\n",
    "1. The optical signal is measured via **homodyne detection**:\n",
    "   - Interference with a strong local oscillator converts the quadrature to a measurable voltage.\n",
    "2. The continuous outcome $ X $ is **sampled and digitized** to produce raw bits.  \n",
    "\n",
    "- Typically, the voltage is split into bins to form discrete random numbers.\n",
    "- Raw distribution is **Gaussian**, not uniform. Post-processing or randomness extraction is needed for uniform bits.\n",
    "\n",
    "#### (4) Randomness Extraction\n",
    "\n",
    "- To convert Gaussian-distributed raw data to uniform random bits:\n",
    "  - **Von Neumann extraction**: removes bias in pairs of bits.\n",
    "  - **Hash functions / Trevisan extractors**: extract almost uniform bits from a high-entropy source.\n",
    "\n",
    "- Min-entropy is used to **quantify the worst-case unpredictability** of the raw measurement.\n",
    "\n",
    "$H_{\\min} = -\\log_2 \\max_{x} P(x)$\n",
    "\n",
    "#### 5. Advantages of CV QRNGs\n",
    "\n",
    "- High-speed generation (GHz rates possible) because of **continuous measurement**.  \n",
    "- Can leverage **standard photodiodes** — no single-photon detectors needed.  \n",
    "- Fundamentally quantum: unpredictability guaranteed by **Heisenberg uncertainty principle**.\n",
    "\n",
    "\n"
   ]
  }
 ],
 "metadata": {
  "kernelspec": {
   "display_name": "cutie",
   "language": "python",
   "name": "python3"
  },
  "language_info": {
   "codemirror_mode": {
    "name": "ipython",
    "version": 3
   },
   "file_extension": ".py",
   "mimetype": "text/x-python",
   "name": "python",
   "nbconvert_exporter": "python",
   "pygments_lexer": "ipython3",
   "version": "3.13.5"
  }
 },
 "nbformat": 4,
 "nbformat_minor": 5
}
